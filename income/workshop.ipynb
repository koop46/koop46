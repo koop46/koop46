{
 "cells": [
  {
   "cell_type": "code",
   "execution_count": 2,
   "metadata": {},
   "outputs": [],
   "source": [
    "import pandas as pd\n",
    "import matplotlib.pyplot as plt\n",
    "import seaborn as sns\n",
    "import re\n",
    "\n",
    "\n",
    "df = pd.read_excel(\"21d.xlsx\")\n",
    "\n",
    "ages = df.iloc[3:88,1]\n",
    "income_classes = [ df.iloc[88+85*n, 0] for n in range(26) ]\n",
    "\n",
    "MAIN_DF = WOMEN_DF = MEN_DF = MEDIAN_DF = MEDIAN_DF_W = MEDIAN_DF_M = pd.DataFrame( columns = income_classes, index = ages )\n",
    "MAIN_DF.index.name = WOMEN_DF.index.name = MEN_DF.index.name = None\n",
    "MEDIAN_DF.index.name = MEDIAN_DF_W.index.name = MEDIAN_DF_M.index.name = None\n",
    "\n",
    "\n",
    "# #######################################################################\n",
    "# ##############################  Main DF  ##############################\n",
    "# #######################################################################\n",
    "\n",
    "for (i,data) in enumerate(MAIN_DF):\n",
    "\n",
    "    col = df.iloc[ 88 + 85 * i:173 + 85 * i, 8 ]\n",
    "    MAIN_DF[data] = col.values\n",
    "\n",
    "MAIN_DF = MAIN_DF.replace(\"..\", 0)\n",
    "MAIN_DF.loc['Summa'] = MAIN_DF.sum(axis = 0)\n",
    "MAIN_DF['Totala'] = MAIN_DF.sum(axis=1)\n",
    "\n",
    "\n",
    "# #######################################################################\n",
    "# #######################  Men & Women income DF  #######################\n",
    "# #######################################################################\n",
    "\n",
    "for (i,data) in enumerate(MEN_DF):\n",
    "\n",
    "    col = df.iloc[ 88 + 85 * i:173 + 85 * i, 4 ]\n",
    "    MEN_DF[data] = col.values\n",
    "\n",
    "MEN_DF = MEN_DF.replace(\"..\", 0)\n",
    "MEN_DF.loc['Summa'] = MEN_DF.sum(axis = 0)\n",
    "MEN_DF['Totala'] = MEN_DF.sum(axis=1)\n",
    "\n",
    "\n",
    "\n",
    "for (i,data) in enumerate(WOMEN_DF):\n",
    "\n",
    "    col = df.iloc[ 88 + 85 * i:173 + 85 * i, 6 ]\n",
    "    WOMEN_DF[data] = col.values\n",
    "\n",
    "WOMEN_DF = WOMEN_DF.replace(\"..\", 0)\n",
    "WOMEN_DF.loc['Summa'] = WOMEN_DF.sum(axis = 0)\n",
    "WOMEN_DF['Totala'] = WOMEN_DF.sum(axis=1)\n",
    "\n",
    "\n",
    "# #######################################################################\n",
    "# ########################  Median DF M, W & All ########################\n",
    "# #######################################################################\n",
    "\n",
    "for (i,data) in enumerate(MEDIAN_DF):\n",
    "\n",
    "    col = df.iloc[ 88 + 85 * i:173 + 85 * i, 7 ]\n",
    "    MEDIAN_DF[data] = col.values\n",
    "\n",
    "MEDIAN_DF = MEDIAN_DF.replace(\"..\", 0)\n",
    "\n",
    "\n",
    "\n",
    "for (i,data) in enumerate(MEDIAN_DF_M):\n",
    "\n",
    "    col = df.iloc[ 88 + 85 * i:173 + 85 * i, 3 ]\n",
    "    MEDIAN_DF_M[data] = col.values\n",
    "\n",
    "MEDIAN_DF_M = MEDIAN_DF_M.replace(\"..\", 0)\n",
    "\n",
    "\n",
    "\n",
    "for (i,data) in enumerate(MEDIAN_DF_W):\n",
    "\n",
    "    col = df.iloc[ 88 + 85 * i:173 + 85 * i, 5 ]\n",
    "    MEDIAN_DF_W[data] = col.values\n",
    "\n",
    "MEDIAN_DF_W = MEDIAN_DF_W.replace(\"..\", 0)\n",
    "\n"
   ]
  },
  {
   "cell_type": "code",
   "execution_count": 5,
   "metadata": {},
   "outputs": [
    {
     "data": {
      "text/plain": [
       "85"
      ]
     },
     "execution_count": 5,
     "metadata": {},
     "output_type": "execute_result"
    }
   ],
   "source": [
    "from sqlite3 import connect\n",
    "\n",
    "conn = connect(\"incomes_DB.db\")\n",
    "\n",
    "curr = conn.cursor()\n",
    "\n",
    "curr.execute('CREATE TABLE IF NOT EXISTS median_w ( Namn TEXT) ')\n",
    "\n",
    "conn.commit()\n",
    "\n",
    "MEDIAN_DF_W.to_sql('median_w', conn, if_exists='replace')\n"
   ]
  },
  {
   "cell_type": "code",
   "execution_count": 12,
   "metadata": {},
   "outputs": [
    {
     "name": "stdout",
     "output_type": "stream",
     "text": [
      "['16 år', '17 år', '18 år', '19 år', '20 år', '21 år', '22 år', '23 år', '24 år', '25 år', '26 år', '27 år', '28 år', '29 år', '30 år', '31 år', '32 år', '33 år', '34 år', '35 år', '36 år', '37 år', '38 år', '39 år', '40 år', '41 år', '42 år', '43 år', '44 år', '45 år', '46 år', '47 år', '48 år', '49 år', '50 år', '51 år', '52 år', '53 år', '54 år', '55 år', '56 år', '57 år', '58 år', '59 år', '60 år', '61 år', '62 år', '63 år', '64 år', '65 år', '66 år', '67 år', '68 år', '69 år', '70 år', '71 år', '72 år', '73 år', '74 år', '75 år', '76 år', '77 år', '78 år', '79 år', '80 år', '81 år', '82 år', '83 år', '84 år', '85 år', '86 år', '87 år', '88 år', '89 år', '90 år', '91 år', '92 år', '93 år', '94 år', '95 år', '96 år', '97 år', '98 år', '99 år', '100+ år', 'Summa']\n"
     ]
    }
   ],
   "source": [
    "col_names = ['0', '1-19 tkr', '20-39 tkr', '40-59 tkr', '60-79 tkr', '80-99 tkr', '100-119 tkr', '120-139 tkr', '140-159 tkr', '160-179 tkr', '180-199 tkr', '200-219 tkr', '220-239 tkr', '240-259 tkr', '260-279 tkr', '280-299 tkr', '300-319 tkr', '320-339 tkr', '340-359 tkr', '360-379 tkr', '380-399 tkr', '400-499 tkr', '500-599 tkr', '600-799 tkr', '800-999 tkr', '1000+ tkr', 'Totala']\n",
    "row_names = ['16 år', '17 år', '18 år', '19 år', '20 år', '21 år', '22 år', '23 år', '24 år', '25 år', '26 år', '27 år', '28 år', '29 år', '30 år', '31 år', '32 år', '33 år', '34 år', '35 år', '36 år', '37 år', '38 år', '39 år', '40 år', '41 år', '42 år', '43 år', '44 år', '45 år', '46 år', '47 år', '48 år', '49 år', '50 år', '51 år', '52 år', '53 år', '54 år', '55 år', '56 år', '57 år', '58 år', '59 år', '60 år', '61 år', '62 år', '63 år', '64 år', '65 år', '66 år', '67 år', '68 år', '69 år', '70 år', '71 år', '72 år', '73 år', '74 år', '75 år', '76 år', '77 år', '78 år', '79 år', '80 år', '81 år', '82 år', '83 år', '84 år', '85 år', '86 år', '87 år', '88 år', '89 år', '90 år', '91 år', '92 år', '93 år', '94 år', '95 år', '96 år', '97 år', '98 år', '99 år', '100+ år', 'Summa']\n",
    "\n",
    "print(row_names)"
   ]
  },
  {
   "cell_type": "code",
   "execution_count": null,
   "metadata": {},
   "outputs": [],
   "source": []
  }
 ],
 "metadata": {
  "kernelspec": {
   "display_name": "Python_Alejandro_Martinez-YSsPG-wX",
   "language": "python",
   "name": "python3"
  },
  "language_info": {
   "codemirror_mode": {
    "name": "ipython",
    "version": 3
   },
   "file_extension": ".py",
   "mimetype": "text/x-python",
   "name": "python",
   "nbconvert_exporter": "python",
   "pygments_lexer": "ipython3",
   "version": "3.11.4"
  },
  "orig_nbformat": 4
 },
 "nbformat": 4,
 "nbformat_minor": 2
}
